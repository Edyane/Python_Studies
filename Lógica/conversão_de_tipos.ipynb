{
  "nbformat": 4,
  "nbformat_minor": 0,
  "metadata": {
    "colab": {
      "provenance": []
    },
    "kernelspec": {
      "name": "python3",
      "display_name": "Python 3"
    },
    "language_info": {
      "name": "python"
    }
  },
  "cells": [
    {
      "cell_type": "code",
      "source": [
        "idade = 15\n",
        "def verifica_se_pode_dirigir_sem_parametros():\n",
        " idade = input('Qual é a sua idade? ')\n",
        " idade = int (idade)\n",
        " if idade >=18:\n",
        "   print('Tem permissão para dirigir!')\n",
        " else:\n",
        "    print('Não tem permissão para dirigir')\n",
        "verifica_se_pode_dirigir_sem_parametros()"
      ],
      "metadata": {
        "colab": {
          "base_uri": "https://localhost:8080/"
        },
        "id": "yRH-h2Wwz6ja",
        "outputId": "22fb11b1-7326-42b2-da32-017215812054"
      },
      "execution_count": 7,
      "outputs": [
        {
          "output_type": "stream",
          "name": "stdout",
          "text": [
            "Qual é a sua idade? 18\n",
            "Tem permissão para dirigir!\n"
          ]
        }
      ]
    }
  ]
}