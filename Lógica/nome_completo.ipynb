{
  "nbformat": 4,
  "nbformat_minor": 0,
  "metadata": {
    "colab": {
      "provenance": []
    },
    "kernelspec": {
      "name": "python3",
      "display_name": "Python 3"
    },
    "language_info": {
      "name": "python"
    }
  },
  "cells": [
    {
      "cell_type": "code",
      "execution_count": null,
      "metadata": {
        "id": "zSkhi4-qybqA"
      },
      "outputs": [],
      "source": [
        "def nome_completo():\n",
        " primeiro_nome = input('Qual seu primeiro nome? ')\n",
        " sobrenome = input('Qual seu sobrenome? ')\n",
        " nome_inteiro = primeiro_nome + ' ' + sobrenome\n",
        " print(nome_inteiro)\n",
        "\n",
        "nome_completo()"
      ]
    }
  ]
}